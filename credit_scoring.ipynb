{
 "cells": [
  {
   "cell_type": "code",
   "execution_count": 1,
   "metadata": {},
   "outputs": [],
   "source": [
    "import pandas as pd\n",
    "pd.set_option('display.max_column',None)\n",
    "pd.set_option('display.max_rows',None)\n",
    "seed = 2018"
   ]
  },
  {
   "cell_type": "code",
   "execution_count": 43,
   "metadata": {},
   "outputs": [],
   "source": [
    "train = pd.read_csv(\"data_input/npl_train.csv\")"
   ]
  },
  {
   "cell_type": "code",
   "execution_count": 44,
   "metadata": {},
   "outputs": [],
   "source": [
    "train = train.drop(\"X\", axis=1)"
   ]
  },
  {
   "cell_type": "code",
   "execution_count": 45,
   "metadata": {},
   "outputs": [
    {
     "data": {
      "text/html": [
       "<div>\n",
       "<style scoped>\n",
       "    .dataframe tbody tr th:only-of-type {\n",
       "        vertical-align: middle;\n",
       "    }\n",
       "\n",
       "    .dataframe tbody tr th {\n",
       "        vertical-align: top;\n",
       "    }\n",
       "\n",
       "    .dataframe thead th {\n",
       "        text-align: right;\n",
       "    }\n",
       "</style>\n",
       "<table border=\"1\" class=\"dataframe\">\n",
       "  <thead>\n",
       "    <tr style=\"text-align: right;\">\n",
       "      <th></th>\n",
       "      <th>jumlah_kartu</th>\n",
       "      <th>outstanding</th>\n",
       "      <th>limit_kredit</th>\n",
       "      <th>tagihan</th>\n",
       "      <th>total_pemakaian_tunai</th>\n",
       "      <th>total_pemakaian_retail</th>\n",
       "      <th>sisa_tagihan_tidak_terbayar</th>\n",
       "      <th>kode_cabang</th>\n",
       "      <th>rasio_pembayaran</th>\n",
       "      <th>persentasi_overlimit</th>\n",
       "      <th>rasio_pembayaran_3bulan</th>\n",
       "      <th>rasio_pembayaran_6bulan</th>\n",
       "      <th>skor_delikuensi</th>\n",
       "      <th>flag_kredit_macet</th>\n",
       "      <th>jumlah_tahun_sejak_pembukaan_kredit</th>\n",
       "      <th>total_pemakaian</th>\n",
       "      <th>sisa_tagihan_per_jumlah_kartu</th>\n",
       "      <th>sisa_tagihan_per_limit</th>\n",
       "      <th>total_pemakaian_per_limit</th>\n",
       "      <th>pemakaian_3bln_per_limit</th>\n",
       "      <th>pemakaian_6bln_per_limit</th>\n",
       "      <th>utilisasi_3bulan</th>\n",
       "      <th>utilisasi_6bulan</th>\n",
       "    </tr>\n",
       "  </thead>\n",
       "  <tbody>\n",
       "    <tr>\n",
       "      <th>0</th>\n",
       "      <td>2</td>\n",
       "      <td>36158</td>\n",
       "      <td>7000000.0</td>\n",
       "      <td>23437.0</td>\n",
       "      <td>0.0</td>\n",
       "      <td>94.0</td>\n",
       "      <td>26323.0</td>\n",
       "      <td>I</td>\n",
       "      <td>102.19</td>\n",
       "      <td>0.0</td>\n",
       "      <td>74.78</td>\n",
       "      <td>100.00</td>\n",
       "      <td>0</td>\n",
       "      <td>0</td>\n",
       "      <td>15.416667</td>\n",
       "      <td>94.0</td>\n",
       "      <td>13161.5</td>\n",
       "      <td>0.003760</td>\n",
       "      <td>0.000013</td>\n",
       "      <td>0.011719</td>\n",
       "      <td>0.017810</td>\n",
       "      <td>0.013228</td>\n",
       "      <td>0.021949</td>\n",
       "    </tr>\n",
       "    <tr>\n",
       "      <th>1</th>\n",
       "      <td>2</td>\n",
       "      <td>268691</td>\n",
       "      <td>10000000.0</td>\n",
       "      <td>254564.0</td>\n",
       "      <td>0.0</td>\n",
       "      <td>1012.0</td>\n",
       "      <td>0.0</td>\n",
       "      <td>A</td>\n",
       "      <td>0.00</td>\n",
       "      <td>0.0</td>\n",
       "      <td>0.00</td>\n",
       "      <td>0.00</td>\n",
       "      <td>0</td>\n",
       "      <td>0</td>\n",
       "      <td>0.750000</td>\n",
       "      <td>1012.0</td>\n",
       "      <td>0.0</td>\n",
       "      <td>0.000000</td>\n",
       "      <td>0.000101</td>\n",
       "      <td>0.000000</td>\n",
       "      <td>0.000000</td>\n",
       "      <td>0.004232</td>\n",
       "      <td>0.000300</td>\n",
       "    </tr>\n",
       "    <tr>\n",
       "      <th>2</th>\n",
       "      <td>3</td>\n",
       "      <td>6769149</td>\n",
       "      <td>28000000.0</td>\n",
       "      <td>4159779.0</td>\n",
       "      <td>0.0</td>\n",
       "      <td>0.0</td>\n",
       "      <td>0.0</td>\n",
       "      <td>A</td>\n",
       "      <td>100.00</td>\n",
       "      <td>0.0</td>\n",
       "      <td>100.00</td>\n",
       "      <td>100.91</td>\n",
       "      <td>0</td>\n",
       "      <td>0</td>\n",
       "      <td>10.750000</td>\n",
       "      <td>0.0</td>\n",
       "      <td>0.0</td>\n",
       "      <td>0.000000</td>\n",
       "      <td>0.000000</td>\n",
       "      <td>0.040518</td>\n",
       "      <td>0.047703</td>\n",
       "      <td>0.249389</td>\n",
       "      <td>0.267853</td>\n",
       "    </tr>\n",
       "    <tr>\n",
       "      <th>3</th>\n",
       "      <td>4</td>\n",
       "      <td>3496732</td>\n",
       "      <td>21000000.0</td>\n",
       "      <td>111231.0</td>\n",
       "      <td>0.0</td>\n",
       "      <td>2536660.0</td>\n",
       "      <td>581334.0</td>\n",
       "      <td>G</td>\n",
       "      <td>100.00</td>\n",
       "      <td>0.0</td>\n",
       "      <td>25.01</td>\n",
       "      <td>22.64</td>\n",
       "      <td>0</td>\n",
       "      <td>0</td>\n",
       "      <td>19.750000</td>\n",
       "      <td>2536660.0</td>\n",
       "      <td>145333.5</td>\n",
       "      <td>0.027683</td>\n",
       "      <td>0.120793</td>\n",
       "      <td>0.055971</td>\n",
       "      <td>0.016851</td>\n",
       "      <td>0.101912</td>\n",
       "      <td>0.346635</td>\n",
       "    </tr>\n",
       "    <tr>\n",
       "      <th>4</th>\n",
       "      <td>2</td>\n",
       "      <td>9402085</td>\n",
       "      <td>10000000.0</td>\n",
       "      <td>6099283.0</td>\n",
       "      <td>0.0</td>\n",
       "      <td>2666558.0</td>\n",
       "      <td>5951865.0</td>\n",
       "      <td>A</td>\n",
       "      <td>95.99</td>\n",
       "      <td>0.0</td>\n",
       "      <td>97.49</td>\n",
       "      <td>99.84</td>\n",
       "      <td>0</td>\n",
       "      <td>0</td>\n",
       "      <td>1.666667</td>\n",
       "      <td>2666558.0</td>\n",
       "      <td>2975932.5</td>\n",
       "      <td>0.595186</td>\n",
       "      <td>0.266656</td>\n",
       "      <td>0.323027</td>\n",
       "      <td>0.131162</td>\n",
       "      <td>0.707865</td>\n",
       "      <td>0.336571</td>\n",
       "    </tr>\n",
       "  </tbody>\n",
       "</table>\n",
       "</div>"
      ],
      "text/plain": [
       "   jumlah_kartu  outstanding  limit_kredit    tagihan  total_pemakaian_tunai  \\\n",
       "0             2        36158     7000000.0    23437.0                    0.0   \n",
       "1             2       268691    10000000.0   254564.0                    0.0   \n",
       "2             3      6769149    28000000.0  4159779.0                    0.0   \n",
       "3             4      3496732    21000000.0   111231.0                    0.0   \n",
       "4             2      9402085    10000000.0  6099283.0                    0.0   \n",
       "\n",
       "   total_pemakaian_retail  sisa_tagihan_tidak_terbayar kode_cabang  \\\n",
       "0                    94.0                      26323.0           I   \n",
       "1                  1012.0                          0.0           A   \n",
       "2                     0.0                          0.0           A   \n",
       "3               2536660.0                     581334.0           G   \n",
       "4               2666558.0                    5951865.0           A   \n",
       "\n",
       "   rasio_pembayaran  persentasi_overlimit  rasio_pembayaran_3bulan  \\\n",
       "0            102.19                   0.0                    74.78   \n",
       "1              0.00                   0.0                     0.00   \n",
       "2            100.00                   0.0                   100.00   \n",
       "3            100.00                   0.0                    25.01   \n",
       "4             95.99                   0.0                    97.49   \n",
       "\n",
       "   rasio_pembayaran_6bulan  skor_delikuensi  flag_kredit_macet  \\\n",
       "0                   100.00                0                  0   \n",
       "1                     0.00                0                  0   \n",
       "2                   100.91                0                  0   \n",
       "3                    22.64                0                  0   \n",
       "4                    99.84                0                  0   \n",
       "\n",
       "   jumlah_tahun_sejak_pembukaan_kredit  total_pemakaian  \\\n",
       "0                            15.416667             94.0   \n",
       "1                             0.750000           1012.0   \n",
       "2                            10.750000              0.0   \n",
       "3                            19.750000        2536660.0   \n",
       "4                             1.666667        2666558.0   \n",
       "\n",
       "   sisa_tagihan_per_jumlah_kartu  sisa_tagihan_per_limit  \\\n",
       "0                        13161.5                0.003760   \n",
       "1                            0.0                0.000000   \n",
       "2                            0.0                0.000000   \n",
       "3                       145333.5                0.027683   \n",
       "4                      2975932.5                0.595186   \n",
       "\n",
       "   total_pemakaian_per_limit  pemakaian_3bln_per_limit  \\\n",
       "0                   0.000013                  0.011719   \n",
       "1                   0.000101                  0.000000   \n",
       "2                   0.000000                  0.040518   \n",
       "3                   0.120793                  0.055971   \n",
       "4                   0.266656                  0.323027   \n",
       "\n",
       "   pemakaian_6bln_per_limit  utilisasi_3bulan  utilisasi_6bulan  \n",
       "0                  0.017810          0.013228          0.021949  \n",
       "1                  0.000000          0.004232          0.000300  \n",
       "2                  0.047703          0.249389          0.267853  \n",
       "3                  0.016851          0.101912          0.346635  \n",
       "4                  0.131162          0.707865          0.336571  "
      ]
     },
     "execution_count": 45,
     "metadata": {},
     "output_type": "execute_result"
    }
   ],
   "source": [
    "train.head()"
   ]
  },
  {
   "cell_type": "code",
   "execution_count": 46,
   "metadata": {},
   "outputs": [
    {
     "name": "stdout",
     "output_type": "stream",
     "text": [
      "<class 'pandas.core.frame.DataFrame'>\n",
      "RangeIndex: 15493 entries, 0 to 15492\n",
      "Data columns (total 23 columns):\n",
      "jumlah_kartu                           15493 non-null int64\n",
      "outstanding                            15493 non-null int64\n",
      "limit_kredit                           15493 non-null float64\n",
      "tagihan                                15493 non-null float64\n",
      "total_pemakaian_tunai                  15493 non-null float64\n",
      "total_pemakaian_retail                 15493 non-null float64\n",
      "sisa_tagihan_tidak_terbayar            15493 non-null float64\n",
      "kode_cabang                            15393 non-null object\n",
      "rasio_pembayaran                       15493 non-null float64\n",
      "persentasi_overlimit                   15493 non-null float64\n",
      "rasio_pembayaran_3bulan                15493 non-null float64\n",
      "rasio_pembayaran_6bulan                15493 non-null float64\n",
      "skor_delikuensi                        15493 non-null int64\n",
      "flag_kredit_macet                      15493 non-null int64\n",
      "jumlah_tahun_sejak_pembukaan_kredit    15493 non-null float64\n",
      "total_pemakaian                        15493 non-null float64\n",
      "sisa_tagihan_per_jumlah_kartu          15493 non-null float64\n",
      "sisa_tagihan_per_limit                 15493 non-null float64\n",
      "total_pemakaian_per_limit              15493 non-null float64\n",
      "pemakaian_3bln_per_limit               15493 non-null float64\n",
      "pemakaian_6bln_per_limit               15493 non-null float64\n",
      "utilisasi_3bulan                       15493 non-null float64\n",
      "utilisasi_6bulan                       15493 non-null float64\n",
      "dtypes: float64(18), int64(4), object(1)\n",
      "memory usage: 2.7+ MB\n"
     ]
    }
   ],
   "source": [
    "train.info()"
   ]
  },
  {
   "cell_type": "code",
   "execution_count": 47,
   "metadata": {
    "scrolled": true
   },
   "outputs": [
    {
     "data": {
      "text/plain": [
       "jumlah_kartu                             0\n",
       "outstanding                              0\n",
       "limit_kredit                             0\n",
       "tagihan                                  0\n",
       "total_pemakaian_tunai                    0\n",
       "total_pemakaian_retail                   0\n",
       "sisa_tagihan_tidak_terbayar              0\n",
       "kode_cabang                            100\n",
       "rasio_pembayaran                         0\n",
       "persentasi_overlimit                     0\n",
       "rasio_pembayaran_3bulan                  0\n",
       "rasio_pembayaran_6bulan                  0\n",
       "skor_delikuensi                          0\n",
       "flag_kredit_macet                        0\n",
       "jumlah_tahun_sejak_pembukaan_kredit      0\n",
       "total_pemakaian                          0\n",
       "sisa_tagihan_per_jumlah_kartu            0\n",
       "sisa_tagihan_per_limit                   0\n",
       "total_pemakaian_per_limit                0\n",
       "pemakaian_3bln_per_limit                 0\n",
       "pemakaian_6bln_per_limit                 0\n",
       "utilisasi_3bulan                         0\n",
       "utilisasi_6bulan                         0\n",
       "dtype: int64"
      ]
     },
     "execution_count": 47,
     "metadata": {},
     "output_type": "execute_result"
    }
   ],
   "source": [
    "train.isna().sum()"
   ]
  },
  {
   "cell_type": "code",
   "execution_count": 48,
   "metadata": {
    "scrolled": true
   },
   "outputs": [
    {
     "data": {
      "text/plain": [
       "0    14134\n",
       "1     1359\n",
       "Name: flag_kredit_macet, dtype: int64"
      ]
     },
     "execution_count": 48,
     "metadata": {},
     "output_type": "execute_result"
    }
   ],
   "source": [
    "train[\"flag_kredit_macet\"].value_counts()"
   ]
  },
  {
   "cell_type": "code",
   "execution_count": 51,
   "metadata": {},
   "outputs": [
    {
     "data": {
      "text/plain": [
       "jumlah_kartu                           0\n",
       "outstanding                            0\n",
       "limit_kredit                           0\n",
       "tagihan                                0\n",
       "total_pemakaian_tunai                  0\n",
       "total_pemakaian_retail                 0\n",
       "sisa_tagihan_tidak_terbayar            0\n",
       "kode_cabang                            0\n",
       "rasio_pembayaran                       0\n",
       "persentasi_overlimit                   0\n",
       "rasio_pembayaran_3bulan                0\n",
       "rasio_pembayaran_6bulan                0\n",
       "skor_delikuensi                        0\n",
       "flag_kredit_macet                      0\n",
       "jumlah_tahun_sejak_pembukaan_kredit    0\n",
       "total_pemakaian                        0\n",
       "sisa_tagihan_per_jumlah_kartu          0\n",
       "sisa_tagihan_per_limit                 0\n",
       "total_pemakaian_per_limit              0\n",
       "pemakaian_3bln_per_limit               0\n",
       "pemakaian_6bln_per_limit               0\n",
       "utilisasi_3bulan                       0\n",
       "utilisasi_6bulan                       0\n",
       "dtype: int64"
      ]
     },
     "execution_count": 51,
     "metadata": {},
     "output_type": "execute_result"
    }
   ],
   "source": [
    "#masukkin kolom2 categorical dengan modenya\n",
    "# train['kode_cabang'] = train['kode_cabang'].apply(lambda x:x.fillna(x.value_counts().index[0]))\n",
    "# test['kode_cabang'] = test['kode_cabang'].apply(lambda x:x.fillna(x.value_counts().index[0]))\n",
    "train['kode_cabang'].fillna(value=train['kode_cabang'].mode()[0], inplace=True)\n",
    "train.isna().sum()"
   ]
  },
  {
   "cell_type": "code",
   "execution_count": 53,
   "metadata": {},
   "outputs": [],
   "source": [
    "y_train = train[\"flag_kredit_macet\"]"
   ]
  },
  {
   "cell_type": "code",
   "execution_count": 54,
   "metadata": {},
   "outputs": [
    {
     "data": {
      "text/plain": [
       "Counter({0: 14134, 1: 1359})"
      ]
     },
     "execution_count": 54,
     "metadata": {},
     "output_type": "execute_result"
    }
   ],
   "source": [
    "from collections import Counter\n",
    "Counter(y_train)"
   ]
  },
  {
   "cell_type": "code",
   "execution_count": 55,
   "metadata": {},
   "outputs": [],
   "source": [
    "X_train = train.drop(\"flag_kredit_macet\", axis=1)"
   ]
  },
  {
   "cell_type": "code",
   "execution_count": 56,
   "metadata": {},
   "outputs": [],
   "source": [
    "X_train_dum = pd.get_dummies(X_train)"
   ]
  },
  {
   "cell_type": "code",
   "execution_count": 57,
   "metadata": {},
   "outputs": [],
   "source": [
    "from sklearn.linear_model import LogisticRegression\n",
    "from sklearn.ensemble import RandomForestClassifier\n",
    "from sklearn.model_selection import KFold, StratifiedKFold, cross_val_score"
   ]
  },
  {
   "cell_type": "code",
   "execution_count": 58,
   "metadata": {},
   "outputs": [],
   "source": [
    "skfold = StratifiedKFold(n_splits=10, random_state=seed)"
   ]
  },
  {
   "cell_type": "code",
   "execution_count": 59,
   "metadata": {},
   "outputs": [],
   "source": [
    "# model = LogisticRegression()\n",
    "model = RandomForestClassifier(n_estimators=100, random_state=seed)"
   ]
  },
  {
   "cell_type": "code",
   "execution_count": 60,
   "metadata": {},
   "outputs": [],
   "source": [
    "score = cross_val_score(model, X_train_dum, y_train, scoring=\"roc_auc\", cv=skfold)"
   ]
  },
  {
   "cell_type": "code",
   "execution_count": 61,
   "metadata": {},
   "outputs": [
    {
     "data": {
      "text/plain": [
       "array([0.85887189, 0.84926731, 0.8648052 , 0.86380158, 0.85560811,\n",
       "       0.82685723, 0.84069928, 0.85801746, 0.87461752, 0.86148201])"
      ]
     },
     "execution_count": 61,
     "metadata": {},
     "output_type": "execute_result"
    }
   ],
   "source": [
    "score"
   ]
  },
  {
   "cell_type": "code",
   "execution_count": 63,
   "metadata": {},
   "outputs": [],
   "source": [
    "from sklearn.metrics import confusion_matrix, classification_report, accuracy_score, roc_curve\n",
    "def cfm(test, pred):\n",
    "    cm1=pd.DataFrame(confusion_matrix(test, pred),columns=['Target 0','Target 1'],index=['Target 0', 'Target 1'])\n",
    "    cm = confusion_matrix(test, pred)\n",
    "    \n",
    "    TP = cm[1][1]\n",
    "    TN = cm[0][0]\n",
    "    FP = cm[0][1]\n",
    "    FN = cm[1][0]\n",
    "\n",
    "    total = sum(sum(cm))\n",
    "    accuracy = (TN + TP)/total\n",
    "    sensitivity = TP/(FN + TP)\n",
    "    specificity = TN/(TN + FP)\n",
    "    precision = TP / (TP+ FP)\n",
    "    npv = TN / (FN + TN)\n",
    "    # Build ROC curve\n",
    "    fpr, tpr, threshold= roc_curve(val_y, y_predict_rf)\n",
    "    #print(cm1)\n",
    "    \n",
    "    print(\"Accuracy: \",accuracy)\n",
    "    print(\"Precision: \", precision)\n",
    "    print(\"Sensitivity: \", sensitivity)\n",
    "    print(\"Specificity: \", specificity)\n",
    "    print(\"Negative predictive value: \", npv)"
   ]
  },
  {
   "cell_type": "code",
   "execution_count": 64,
   "metadata": {},
   "outputs": [],
   "source": [
    "from sklearn.model_selection import train_test_split, cross_val_score\n",
    "train_x,val_x,train_y,val_y=train_test_split(X_train_dum, y_train,test_size=0.3,random_state=123)"
   ]
  },
  {
   "cell_type": "code",
   "execution_count": 70,
   "metadata": {},
   "outputs": [
    {
     "name": "stderr",
     "output_type": "stream",
     "text": [
      "C:\\Users\\wildan aulia h\\Anaconda3\\lib\\site-packages\\sklearn\\utils\\deprecation.py:77: DeprecationWarning: Function _ratio_float is deprecated; Use a float for 'ratio' is deprecated from version 0.2. The support will be removed in 0.4. Use a dict, str, or a callable instead.\n",
      "  warnings.warn(msg, category=DeprecationWarning)\n"
     ]
    }
   ],
   "source": [
    "from imblearn.over_sampling import SMOTE\n",
    "sm = SMOTE(random_state=123, ratio=1.0)\n",
    "train_xnn2_res,train_ynn2_res = sm.fit_sample(train_x,train_y)"
   ]
  },
  {
   "cell_type": "code",
   "execution_count": 74,
   "metadata": {},
   "outputs": [
    {
     "name": "stdout",
     "output_type": "stream",
     "text": [
      "0.9150172117039587\n"
     ]
    }
   ],
   "source": [
    "#Random Forest\n",
    "ranfor = RandomForestClassifier(n_estimators=50,min_samples_leaf=10, min_samples_split=5, max_depth=20, random_state=123,n_jobs=-1)\n",
    "ranfor.fit(train_x,train_y)\n",
    "\n",
    "print(ranfor.score(val_x, val_y))"
   ]
  },
  {
   "cell_type": "code",
   "execution_count": 75,
   "metadata": {},
   "outputs": [
    {
     "data": {
      "text/plain": [
       "0.9150172117039587"
      ]
     },
     "execution_count": 75,
     "metadata": {},
     "output_type": "execute_result"
    }
   ],
   "source": [
    "y_predict_rf = ranfor.predict(val_x)\n",
    "accuracy_score(val_y, y_predict_rf)"
   ]
  },
  {
   "cell_type": "code",
   "execution_count": 76,
   "metadata": {},
   "outputs": [
    {
     "name": "stdout",
     "output_type": "stream",
     "text": [
      "Accuracy:  0.9150172117039587\n",
      "Precision:  0.6851851851851852\n",
      "Sensitivity:  0.0891566265060241\n",
      "Specificity:  0.9959839357429718\n",
      "Negative predictive value:  0.9177187636047018\n"
     ]
    }
   ],
   "source": [
    "cfm(val_y,y_predict_rf)"
   ]
  },
  {
   "cell_type": "code",
   "execution_count": 28,
   "metadata": {},
   "outputs": [],
   "source": [
    "test = pd.read_csv(\"data_input/npl_test.csv\")"
   ]
  },
  {
   "cell_type": "code",
   "execution_count": 25,
   "metadata": {},
   "outputs": [],
   "source": [
    "test = test.drop(\"X\", axis=1)"
   ]
  },
  {
   "cell_type": "code",
   "execution_count": 29,
   "metadata": {},
   "outputs": [
    {
     "data": {
      "text/html": [
       "<div>\n",
       "<style scoped>\n",
       "    .dataframe tbody tr th:only-of-type {\n",
       "        vertical-align: middle;\n",
       "    }\n",
       "\n",
       "    .dataframe tbody tr th {\n",
       "        vertical-align: top;\n",
       "    }\n",
       "\n",
       "    .dataframe thead th {\n",
       "        text-align: right;\n",
       "    }\n",
       "</style>\n",
       "<table border=\"1\" class=\"dataframe\">\n",
       "  <thead>\n",
       "    <tr style=\"text-align: right;\">\n",
       "      <th></th>\n",
       "      <th>X</th>\n",
       "      <th>jumlah_kartu</th>\n",
       "      <th>outstanding</th>\n",
       "      <th>limit_kredit</th>\n",
       "      <th>tagihan</th>\n",
       "      <th>total_pemakaian_tunai</th>\n",
       "      <th>total_pemakaian_retail</th>\n",
       "      <th>sisa_tagihan_tidak_terbayar</th>\n",
       "      <th>kode_cabang</th>\n",
       "      <th>rasio_pembayaran</th>\n",
       "      <th>persentasi_overlimit</th>\n",
       "      <th>rasio_pembayaran_3bulan</th>\n",
       "      <th>rasio_pembayaran_6bulan</th>\n",
       "      <th>skor_delikuensi</th>\n",
       "      <th>jumlah_tahun_sejak_pembukaan_kredit</th>\n",
       "      <th>total_pemakaian</th>\n",
       "      <th>sisa_tagihan_per_jumlah_kartu</th>\n",
       "      <th>sisa_tagihan_per_limit</th>\n",
       "      <th>total_pemakaian_per_limit</th>\n",
       "      <th>pemakaian_3bln_per_limit</th>\n",
       "      <th>pemakaian_6bln_per_limit</th>\n",
       "      <th>utilisasi_3bulan</th>\n",
       "      <th>utilisasi_6bulan</th>\n",
       "    </tr>\n",
       "  </thead>\n",
       "  <tbody>\n",
       "    <tr>\n",
       "      <th>0</th>\n",
       "      <td>15494</td>\n",
       "      <td>2</td>\n",
       "      <td>60792</td>\n",
       "      <td>3000000.0</td>\n",
       "      <td>44480.0</td>\n",
       "      <td>0.0</td>\n",
       "      <td>0.0</td>\n",
       "      <td>48137</td>\n",
       "      <td>A</td>\n",
       "      <td>98.99</td>\n",
       "      <td>0.00</td>\n",
       "      <td>49.76</td>\n",
       "      <td>30.73</td>\n",
       "      <td>0</td>\n",
       "      <td>2.0</td>\n",
       "      <td>0.0</td>\n",
       "      <td>24068.5</td>\n",
       "      <td>0.016046</td>\n",
       "      <td>0.000000</td>\n",
       "      <td>0.032890</td>\n",
       "      <td>0.011111</td>\n",
       "      <td>0.158176</td>\n",
       "      <td>0.526592</td>\n",
       "    </tr>\n",
       "    <tr>\n",
       "      <th>1</th>\n",
       "      <td>15495</td>\n",
       "      <td>4</td>\n",
       "      <td>76553607</td>\n",
       "      <td>62000000.0</td>\n",
       "      <td>55456096.0</td>\n",
       "      <td>0.0</td>\n",
       "      <td>0.0</td>\n",
       "      <td>74462952</td>\n",
       "      <td>A</td>\n",
       "      <td>0.00</td>\n",
       "      <td>26.58</td>\n",
       "      <td>53.65</td>\n",
       "      <td>102.60</td>\n",
       "      <td>0</td>\n",
       "      <td>8.5</td>\n",
       "      <td>0.0</td>\n",
       "      <td>18615738.0</td>\n",
       "      <td>1.201015</td>\n",
       "      <td>0.000000</td>\n",
       "      <td>0.003065</td>\n",
       "      <td>0.410565</td>\n",
       "      <td>1.117404</td>\n",
       "      <td>1.051829</td>\n",
       "    </tr>\n",
       "    <tr>\n",
       "      <th>2</th>\n",
       "      <td>15496</td>\n",
       "      <td>2</td>\n",
       "      <td>133429</td>\n",
       "      <td>10000000.0</td>\n",
       "      <td>64248.0</td>\n",
       "      <td>0.0</td>\n",
       "      <td>112292.0</td>\n",
       "      <td>0</td>\n",
       "      <td>C</td>\n",
       "      <td>100.00</td>\n",
       "      <td>0.00</td>\n",
       "      <td>38.19</td>\n",
       "      <td>33.33</td>\n",
       "      <td>0</td>\n",
       "      <td>8.5</td>\n",
       "      <td>112292.0</td>\n",
       "      <td>0.0</td>\n",
       "      <td>0.000000</td>\n",
       "      <td>0.011229</td>\n",
       "      <td>0.017020</td>\n",
       "      <td>0.051167</td>\n",
       "      <td>0.012370</td>\n",
       "      <td>0.018460</td>\n",
       "    </tr>\n",
       "    <tr>\n",
       "      <th>3</th>\n",
       "      <td>15497</td>\n",
       "      <td>2</td>\n",
       "      <td>819217</td>\n",
       "      <td>30000000.0</td>\n",
       "      <td>504339.0</td>\n",
       "      <td>0.0</td>\n",
       "      <td>528500.0</td>\n",
       "      <td>31206</td>\n",
       "      <td>A</td>\n",
       "      <td>100.00</td>\n",
       "      <td>0.00</td>\n",
       "      <td>100.14</td>\n",
       "      <td>100.00</td>\n",
       "      <td>0</td>\n",
       "      <td>4.5</td>\n",
       "      <td>528500.0</td>\n",
       "      <td>15603.0</td>\n",
       "      <td>0.001040</td>\n",
       "      <td>0.017617</td>\n",
       "      <td>0.027291</td>\n",
       "      <td>0.013551</td>\n",
       "      <td>0.027675</td>\n",
       "      <td>0.005314</td>\n",
       "    </tr>\n",
       "    <tr>\n",
       "      <th>4</th>\n",
       "      <td>15498</td>\n",
       "      <td>2</td>\n",
       "      <td>775729</td>\n",
       "      <td>6000000.0</td>\n",
       "      <td>761151.0</td>\n",
       "      <td>0.0</td>\n",
       "      <td>0.0</td>\n",
       "      <td>0</td>\n",
       "      <td>A</td>\n",
       "      <td>100.00</td>\n",
       "      <td>0.00</td>\n",
       "      <td>25.00</td>\n",
       "      <td>11.62</td>\n",
       "      <td>0</td>\n",
       "      <td>2.0</td>\n",
       "      <td>0.0</td>\n",
       "      <td>0.0</td>\n",
       "      <td>0.000000</td>\n",
       "      <td>0.000000</td>\n",
       "      <td>0.171277</td>\n",
       "      <td>0.044444</td>\n",
       "      <td>0.341585</td>\n",
       "      <td>0.772101</td>\n",
       "    </tr>\n",
       "  </tbody>\n",
       "</table>\n",
       "</div>"
      ],
      "text/plain": [
       "       X  jumlah_kartu  outstanding  limit_kredit     tagihan  \\\n",
       "0  15494             2        60792     3000000.0     44480.0   \n",
       "1  15495             4     76553607    62000000.0  55456096.0   \n",
       "2  15496             2       133429    10000000.0     64248.0   \n",
       "3  15497             2       819217    30000000.0    504339.0   \n",
       "4  15498             2       775729     6000000.0    761151.0   \n",
       "\n",
       "   total_pemakaian_tunai  total_pemakaian_retail  sisa_tagihan_tidak_terbayar  \\\n",
       "0                    0.0                     0.0                        48137   \n",
       "1                    0.0                     0.0                     74462952   \n",
       "2                    0.0                112292.0                            0   \n",
       "3                    0.0                528500.0                        31206   \n",
       "4                    0.0                     0.0                            0   \n",
       "\n",
       "  kode_cabang  rasio_pembayaran  persentasi_overlimit  \\\n",
       "0           A             98.99                  0.00   \n",
       "1           A              0.00                 26.58   \n",
       "2           C            100.00                  0.00   \n",
       "3           A            100.00                  0.00   \n",
       "4           A            100.00                  0.00   \n",
       "\n",
       "   rasio_pembayaran_3bulan  rasio_pembayaran_6bulan  skor_delikuensi  \\\n",
       "0                    49.76                    30.73                0   \n",
       "1                    53.65                   102.60                0   \n",
       "2                    38.19                    33.33                0   \n",
       "3                   100.14                   100.00                0   \n",
       "4                    25.00                    11.62                0   \n",
       "\n",
       "   jumlah_tahun_sejak_pembukaan_kredit  total_pemakaian  \\\n",
       "0                                  2.0              0.0   \n",
       "1                                  8.5              0.0   \n",
       "2                                  8.5         112292.0   \n",
       "3                                  4.5         528500.0   \n",
       "4                                  2.0              0.0   \n",
       "\n",
       "   sisa_tagihan_per_jumlah_kartu  sisa_tagihan_per_limit  \\\n",
       "0                        24068.5                0.016046   \n",
       "1                     18615738.0                1.201015   \n",
       "2                            0.0                0.000000   \n",
       "3                        15603.0                0.001040   \n",
       "4                            0.0                0.000000   \n",
       "\n",
       "   total_pemakaian_per_limit  pemakaian_3bln_per_limit  \\\n",
       "0                   0.000000                  0.032890   \n",
       "1                   0.000000                  0.003065   \n",
       "2                   0.011229                  0.017020   \n",
       "3                   0.017617                  0.027291   \n",
       "4                   0.000000                  0.171277   \n",
       "\n",
       "   pemakaian_6bln_per_limit  utilisasi_3bulan  utilisasi_6bulan  \n",
       "0                  0.011111          0.158176          0.526592  \n",
       "1                  0.410565          1.117404          1.051829  \n",
       "2                  0.051167          0.012370          0.018460  \n",
       "3                  0.013551          0.027675          0.005314  \n",
       "4                  0.044444          0.341585          0.772101  "
      ]
     },
     "execution_count": 29,
     "metadata": {},
     "output_type": "execute_result"
    }
   ],
   "source": [
    "test.head()"
   ]
  },
  {
   "cell_type": "code",
   "execution_count": 26,
   "metadata": {},
   "outputs": [
    {
     "data": {
      "text/plain": [
       "Index(['jumlah_kartu', 'outstanding', 'limit_kredit', 'tagihan',\n",
       "       'total_pemakaian_tunai', 'total_pemakaian_retail',\n",
       "       'sisa_tagihan_tidak_terbayar', 'kode_cabang', 'rasio_pembayaran',\n",
       "       'persentasi_overlimit', 'rasio_pembayaran_3bulan',\n",
       "       'rasio_pembayaran_6bulan', 'skor_delikuensi', 'flag_kredit_macet',\n",
       "       'jumlah_tahun_sejak_pembukaan_kredit', 'total_pemakaian',\n",
       "       'sisa_tagihan_per_jumlah_kartu', 'sisa_tagihan_per_limit',\n",
       "       'total_pemakaian_per_limit', 'pemakaian_3bln_per_limit',\n",
       "       'pemakaian_6bln_per_limit', 'utilisasi_3bulan', 'utilisasi_6bulan'],\n",
       "      dtype='object')"
      ]
     },
     "execution_count": 26,
     "metadata": {},
     "output_type": "execute_result"
    }
   ],
   "source": [
    "train.columns"
   ]
  },
  {
   "cell_type": "code",
   "execution_count": null,
   "metadata": {},
   "outputs": [],
   "source": []
  }
 ],
 "metadata": {
  "kernelspec": {
   "display_name": "Python 3",
   "language": "python",
   "name": "python3"
  },
  "language_info": {
   "codemirror_mode": {
    "name": "ipython",
    "version": 3
   },
   "file_extension": ".py",
   "mimetype": "text/x-python",
   "name": "python",
   "nbconvert_exporter": "python",
   "pygments_lexer": "ipython3",
   "version": "3.6.5"
  }
 },
 "nbformat": 4,
 "nbformat_minor": 2
}
